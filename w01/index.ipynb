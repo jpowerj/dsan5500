{
 "cells": [
  {
   "cell_type": "raw",
   "id": "6fb9583c",
   "metadata": {},
   "source": [
    "---\n",
    "title: \"Week 1: Coding in General and Python Specifically\"\n",
    "subtitle: \"*DSAN 5500: Data Structures, Objects, and Algorithms in Python*\"\n",
    "date: \"Wednesday, January 10, 2024\"\n",
    "date-format: \"full\"\n",
    "author: \"Jeff Jacobs\"\n",
    "institute: \"<a href='mailto:jj1088@georgetown.edu' target='_blank'>`jj1088@georgetown.edu`</a>\"\n",
    "format:\n",
    "  revealjs:\n",
    "    df-print: kable\n",
    "    output-file: \"slides.html\"\n",
    "    footer: \"DSAN 5500 W01: Coding and Python\"\n",
    "    echo: true\n",
    "    code-fold: show\n",
    "    scrollable: true\n",
    "    slide-number: true\n",
    "    theme: [\"../_jjslides.scss\"]\n",
    "    simplemenu:\n",
    "      flat: true\n",
    "      barhtml:\n",
    "        header: \"<div class='menubar'><span style='position: absolute; left: 8; padding-left: 8px;'><a href='./index.html'>&larr; Return to Notes</a></span><ul class='menu'></ul></div>\"\n",
    "      scale: 0.5\n",
    "    revealjs-plugins:\n",
    "      - simplemenu\n",
    "  html:\n",
    "    df-print: kable\n",
    "    output-file: \"index.html\"\n",
    "    echo: true\n",
    "    code-fold: show\n",
    "---"
   ]
  },
  {
   "cell_type": "markdown",
   "id": "e71d340b",
   "metadata": {},
   "source": [
    "::: {.content-visible unless-format=\"revealjs\"}\n",
    "\n",
    "<center>\n",
    "<a class=\"h2\" href=\"./slides.html\" target=\"_blank\">Open slides in new window &rarr;</a>\n",
    "</center>\n",
    "\n",
    ":::\n",
    "\n",
    "# Welcome to DSAN 5500! {data-name=\"Welcome\"}\n",
    "\n",
    "# Part 1: Coding in General {data-stack-name=\"Coding\"}\n",
    "\n",
    "## Types of Languages\n",
    "\n",
    "* Compiled\n",
    "* Interpreted\n",
    "\n",
    "## Primitive Types\n",
    "\n",
    "* Boolean (`True` or `False`)\n",
    "* Numbers (Integers, Decimals)\n",
    "* Strings\n",
    "* `None`\n",
    "\n",
    "## Stacks and Heaps {.smaller}\n",
    "\n",
    "Let's look at what happens, in the computer's memory, when we run the following code:\n",
    "\n",
    "::: columns\n",
    "::: {.column width=\"50%\"}\n"
   ]
  },
  {
   "cell_type": "code",
   "execution_count": 1,
   "id": "py-memory-example",
   "metadata": {},
   "outputs": [
    {
     "data": {
      "text/html": [
       "<div>\n",
       "<style scoped>\n",
       "    .dataframe tbody tr th:only-of-type {\n",
       "        vertical-align: middle;\n",
       "    }\n",
       "\n",
       "    .dataframe tbody tr th {\n",
       "        vertical-align: top;\n",
       "    }\n",
       "\n",
       "    .dataframe thead th {\n",
       "        text-align: right;\n",
       "    }\n",
       "</style>\n",
       "<table border=\"1\" class=\"dataframe\">\n",
       "  <thead>\n",
       "    <tr style=\"text-align: right;\">\n",
       "      <th></th>\n",
       "      <th>name</th>\n",
       "      <th>pop</th>\n",
       "    </tr>\n",
       "  </thead>\n",
       "  <tbody>\n",
       "    <tr>\n",
       "      <th>0</th>\n",
       "      <td>Albania</td>\n",
       "      <td>2.8</td>\n",
       "    </tr>\n",
       "    <tr>\n",
       "      <th>1</th>\n",
       "      <td>Algeria</td>\n",
       "      <td>44.2</td>\n",
       "    </tr>\n",
       "    <tr>\n",
       "      <th>2</th>\n",
       "      <td>Angola</td>\n",
       "      <td>34.5</td>\n",
       "    </tr>\n",
       "  </tbody>\n",
       "</table>\n",
       "</div>"
      ],
      "text/plain": [
       "      name   pop\n",
       "0  Albania   2.8\n",
       "1  Algeria  44.2\n",
       "2   Angola  34.5"
      ]
     },
     "execution_count": 1,
     "metadata": {},
     "output_type": "execute_result"
    }
   ],
   "source": [
    "#| code-fold: show\n",
    "#| label: py-memory-example\n",
    "import datetime\n",
    "import pandas as pd\n",
    "country_df = pd.read_csv(\"assets/country_pop.csv\")\n",
    "pop_col = country_df['pop']\n",
    "num_rows = len(country_df)\n",
    "filled = all(~pd.isna(country_df))\n",
    "alg_row = country_df.loc[country_df['name'] == \"Algeria\"]\n",
    "num_cols = len(country_df.columns)\n",
    "username = \"Jeff\"\n",
    "cur_date = datetime.datetime.now()\n",
    "i = 0\n",
    "j = None\n",
    "z = 314\n",
    "country_df"
   ]
  },
  {
   "cell_type": "markdown",
   "id": "3dd21c3f",
   "metadata": {},
   "source": [
    ":::\n",
    "::: {.column width=\"50%\"}\n",
    "\n",
    "<!-- https://kroki.io/graphviz/svg/eNqtU01v2zAMPae_wlAvG5AGkuw0bhELKLovDNsO27BLGgSKJH-0rmTIdtMu8n8fraRZ1xrbZTpYFsn3RD2Sssgsr_IgC7ZHASzL9Y0sbPLpqz8Ko4XSjeWNSr7bVh2N6na9Q4iyrRtl32NAjkYlX6syQZ_VrbEPwauLFFzBpZEqeHuvRNsURr9GEPcCTjz8QPCt4eIG-bufrrq547Ze-KAgCdB2O9f8VmEmTAvpPaxk6ryFsMpUK2FKp9vblTWb2qVFWSrpeJn1Z28Hf-3aWtke4kRrVxJe6Ap37X52bjvnUlrM8D0OeYx5Kpy3ELAQvOaxm6eEkRA2ynpV4CcCXzpLRRTGGI5TRuF7ejCq3jhjsRKhPIvjMzjFrLedsS9G9wQEs5BEXYfGdc4r1T_SKmGsROPU6KZPNEGXprWFsmgJknVDatI_1fygeDUg5gsU3lf_-Tre87zhDX9nIYXArK-VaNBg9D542KmhF2pVJXiCMR2MyPFizzCXmL24clwpvSlkkyd4J1HyKNBymI480kGzZJg5kDujjMA3ZLSvckaYr_9Fuea64LBnysI-zyJ2oTNTch817VvK0UnsomhCXRhNpocy_SWHzltGPpUweMzlCn1UaXqFhqr65IVQ4MM7ogMYNFELiml4gmcnlC7_TTLqDnmh3Qyhc9_cwQkLUI7RucQLGPIaRrzQjZ_x5TCE7CAEnWfTRd08lHCp5HWuoEOfMwTH4_t9zj8KtUEDlGn0m4_-D77Tni8PBzwz74mOQIzuF2xJdsA= -->\n",
    "\n",
    "![](images/stack_heap.svg)\n",
    "\n",
    ":::\n",
    ":::\n",
    "\n",
    "# Part 2: Python Specifically {data-stack-name=\"Python\"}\n",
    "\n",
    "## \\#1 Sanity-Preserving Tip!\n",
    "\n",
    "* (For our purposes) the answer to \"what is Python?\" is: an **executable file** that **runs `.py` files!**\n",
    "  * e.g., we can run `python mycode.py` in Terminal/PowerShell\n",
    "\n",
    "* Everything else: `pip`, Jupyter, Pandas, etc., is an **add-on** to this basic functionality!\n",
    "\n",
    "## Code Blocks via Indentation\n"
   ]
  },
  {
   "cell_type": "code",
   "execution_count": 2,
   "id": "indentation-example",
   "metadata": {},
   "outputs": [
    {
     "name": "stdout",
     "output_type": "stream",
     "text": [
      "0\n",
      "1\n",
      "2\n",
      "3\n",
      "4\n"
     ]
    }
   ],
   "source": [
    "#| label: indentation-example\n",
    "for i in range(5):\n",
    "    print(i)"
   ]
  },
  {
   "cell_type": "code",
   "execution_count": 3,
   "id": "indentation-2",
   "metadata": {},
   "outputs": [
    {
     "ename": "IndentationError",
     "evalue": "expected an indented block after 'for' statement on line 1 (3695896917.py, line 2)",
     "output_type": "error",
     "traceback": [
      "\u001b[0;36m  Cell \u001b[0;32mIn[3], line 2\u001b[0;36m\u001b[0m\n\u001b[0;31m    print(i)\u001b[0m\n\u001b[0m    ^\u001b[0m\n\u001b[0;31mIndentationError\u001b[0m\u001b[0;31m:\u001b[0m expected an indented block after 'for' statement on line 1\n"
     ]
    }
   ],
   "source": [
    "#| label: indentation-2\n",
    "#| error: true\n",
    "for i in range(5):\n",
    "print(i)"
   ]
  },
  {
   "cell_type": "markdown",
   "id": "0fafd422",
   "metadata": {},
   "source": [
    "## Type Hints {.smaller .crunch-title .crunch-ul}\n",
    "\n",
    "* **Not** a \"standard\" Python feature, **not** enforced by the Python interpreter, but can help you **maintain sanity**!\n",
    "\n",
    "::: columns\n",
    "::: {.column width=\"50%\"}\n"
   ]
  },
  {
   "cell_type": "code",
   "execution_count": 4,
   "id": "type-hints",
   "metadata": {},
   "outputs": [
    {
     "name": "stdout",
     "output_type": "stream",
     "text": [
      "15\n",
      "fiveeefiveeefiveee\n"
     ]
    }
   ],
   "source": [
    "#| label: type-hints\n",
    "def multiply(thing1, thing2):\n",
    "  return thing1 * thing2\n",
    "print(multiply(5, 3))\n",
    "print(multiply(\"fiveee\", 3))"
   ]
  },
  {
   "cell_type": "markdown",
   "id": "000c54ce",
   "metadata": {},
   "source": [
    ":::\n",
    "::: {.column width=\"50%\"}\n"
   ]
  },
  {
   "cell_type": "code",
   "execution_count": 5,
   "id": "type-hints-safe",
   "metadata": {},
   "outputs": [
    {
     "name": "stdout",
     "output_type": "stream",
     "text": [
      "15\n",
      "fiveeefiveeefiveee\n"
     ]
    }
   ],
   "source": [
    "#| label: type-hints-safe\n",
    "from numbers import Number\n",
    "def multiply(thing1: Number, thing2: Number) -> Number:\n",
    "  return thing1 * thing2\n",
    "print(multiply(5, 3))\n",
    "print(multiply(\"fiveee\", 3))"
   ]
  },
  {
   "cell_type": "markdown",
   "id": "0d1eac85",
   "metadata": {},
   "source": [
    ":::\n",
    ":::\n"
   ]
  },
  {
   "cell_type": "code",
   "execution_count": 6,
   "id": "7bc6bb17",
   "metadata": {},
   "outputs": [
    {
     "name": "stdout",
     "output_type": "stream",
     "text": [
      "<string>:3: \u001b[1m\u001b[31merror:\u001b[m Unsupported left operand type for * (\u001b[m\u001b[1m\"Number\"\u001b[m)  \u001b[m\u001b[33m[operator]\u001b[m\n",
      "<string>:4: \u001b[1m\u001b[31merror:\u001b[m Argument 1 to \u001b[m\u001b[1m\"multiply\"\u001b[m has incompatible type \u001b[m\u001b[1m\"int\"\u001b[m; expected \u001b[m\u001b[1m\"Number\"\u001b[m  \u001b[m\u001b[33m[arg-type]\u001b[m\n",
      "<string>:4: \u001b[34mnote:\u001b[m Types from \u001b[m\u001b[1m\"numbers\"\u001b[m aren't supported for static type checking\u001b[m\n",
      "<string>:4: \u001b[34mnote:\u001b[m See \u001b[4mhttps://peps.python.org/pep-0484/#the-numeric-tower\u001b[m\u001b[m\n",
      "<string>:4: \u001b[34mnote:\u001b[m Consider using a protocol instead, such as typing.SupportsFloat\u001b[m\n",
      "<string>:4: \u001b[1m\u001b[31merror:\u001b[m Argument 2 to \u001b[m\u001b[1m\"multiply\"\u001b[m has incompatible type \u001b[m\u001b[1m\"int\"\u001b[m; expected \u001b[m\u001b[1m\"Number\"\u001b[m  \u001b[m\u001b[33m[arg-type]\u001b[m\n",
      "<string>:5: \u001b[1m\u001b[31merror:\u001b[m Argument 1 to \u001b[m\u001b[1m\"multiply\"\u001b[m has incompatible type \u001b[m\u001b[1m\"str\"\u001b[m; expected \u001b[m\u001b[1m\"Number\"\u001b[m  \u001b[m\u001b[33m[arg-type]\u001b[m\n",
      "<string>:5: \u001b[34mnote:\u001b[m Types from \u001b[m\u001b[1m\"numbers\"\u001b[m aren't supported for static type checking\u001b[m\n",
      "<string>:5: \u001b[34mnote:\u001b[m See \u001b[4mhttps://peps.python.org/pep-0484/#the-numeric-tower\u001b[m\u001b[m\n",
      "<string>:5: \u001b[34mnote:\u001b[m Consider using a protocol instead, such as typing.SupportsFloat\u001b[m\n",
      "<string>:5: \u001b[1m\u001b[31merror:\u001b[m Argument 2 to \u001b[m\u001b[1m\"multiply\"\u001b[m has incompatible type \u001b[m\u001b[1m\"int\"\u001b[m; expected \u001b[m\u001b[1m\"Number\"\u001b[m  \u001b[m\u001b[33m[arg-type]\u001b[m\n",
      "\u001b[1m\u001b[31mFound 5 errors in 1 file (checked 1 source file)\u001b[m\n",
      "\n"
     ]
    }
   ],
   "source": [
    "from mypy import api\n",
    "result = api.run(['-c',_i])\n",
    "print(result[0])"
   ]
  }
 ],
 "metadata": {
  "kernelspec": {
   "display_name": "Python 3 (ipykernel)",
   "language": "python",
   "name": "python3"
  },
  "language_info": {
   "codemirror_mode": {
    "name": "ipython",
    "version": 3
   },
   "file_extension": ".py",
   "mimetype": "text/x-python",
   "name": "python",
   "nbconvert_exporter": "python",
   "pygments_lexer": "ipython3",
   "version": "3.11.5"
  }
 },
 "nbformat": 4,
 "nbformat_minor": 5
}
