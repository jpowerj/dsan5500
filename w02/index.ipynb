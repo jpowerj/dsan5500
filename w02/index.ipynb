{
 "cells": [
  {
   "cell_type": "raw",
   "id": "e9482e12",
   "metadata": {},
   "source": [
    "---\n",
    "title: \"Week 2: Software Design Patterns and Object-Oriented Programming\"\n",
    "subtitle: \"*DSAN 5500: Data Structures, Objects, and Algorithms in Python*\"\n",
    "date: \"Monday, January 22, 2024\"\n",
    "date-format: \"full\"\n",
    "author: \"Jeff Jacobs\"\n",
    "institute: \"<a href='mailto:jj1088@georgetown.edu' target='_blank'>`jj1088@georgetown.edu`</a>\"\n",
    "format:\n",
    "  revealjs:\n",
    "    df-print: kable\n",
    "    output-file: \"slides.html\"\n",
    "    footer: \"DSAN 5500 Week 2: Software Design Patterns and OOP\"\n",
    "    echo: true\n",
    "    code-fold: show\n",
    "    scrollable: true\n",
    "    slide-number: true\n",
    "    simplemenu:\n",
    "      flat: true\n",
    "      barhtml:\n",
    "        header: \"<div class='menubar'><span style='position: absolute; left: 8; padding-left: 8px;'><a href='./index.html'>&larr; Return to Notes</a></span><ul class='menu'></ul></div>\"\n",
    "      scale: 0.5\n",
    "    revealjs-plugins:\n",
    "      - simplemenu\n",
    "  html:\n",
    "    df-print: kable\n",
    "    output-file: \"index.html\"\n",
    "    echo: true\n",
    "    code-fold: show\n",
    "---"
   ]
  },
  {
   "cell_type": "markdown",
   "id": "4d35aceb",
   "metadata": {},
   "source": [
    "::: {.content-visible unless-format=\"revealjs\"}\n",
    "\n",
    "<center>\n",
    "<a class=\"h2\" href=\"./slides.html\" target=\"_blank\">Open slides in new window &rarr;</a>\n",
    "</center>\n",
    "\n",
    ":::\n",
    "\n",
    "# Object-Oriented Programming in General {data-name=\"OOP\"}\n",
    "\n",
    "# Object-Oriented Programming in Python {data-name=\"OOP in Python\"}\n",
    "\n",
    "## Creating Classes {.smaller}\n",
    "\n",
    "* Use case: Creating an inventory system for a **Bookstore**\n",
    "\n",
    "::: columns\n",
    "::: {.column width=\"50%\"}\n"
   ]
  },
  {
   "cell_type": "code",
   "execution_count": 1,
   "id": "basic-class",
   "metadata": {},
   "outputs": [],
   "source": [
    "#| label: basic-class\n",
    "class Bookstore:\n",
    "    def __init__(self, name, location):\n",
    "        self.name = name\n",
    "        self.location = location\n",
    "        self.books = []\n",
    "\n",
    "    def __getitem__(self, index):\n",
    "        return self.books[index]\n",
    "\n",
    "    def __repr__(self):\n",
    "        return self.__str__()\n",
    "\n",
    "    def __str__(self):\n",
    "        return f\"Bookstore[{self.get_num_books()} books]\"\n",
    "\n",
    "    def add_books(self, book_list):\n",
    "        self.books.extend(book_list)\n",
    "\n",
    "    def get_books(self):\n",
    "        return self.books\n",
    "\n",
    "    def get_inventory(self):\n",
    "        book_lines = []\n",
    "        for book_index, book in enumerate(self.get_books()):\n",
    "            cur_book_line = f\"{book_index}. {str(book)}\"\n",
    "            book_lines.append(cur_book_line)\n",
    "        return \"\\n\".join(book_lines)\n",
    "\n",
    "    def get_num_books(self):\n",
    "        return len(self.get_books())\n",
    "\n",
    "    def sort_books(self, sort_key):\n",
    "        self.books.sort(key=sort_key)\n",
    "\n",
    "class Book:\n",
    "    def __init__(self, title, authors, num_pages):\n",
    "        self.title = title\n",
    "        self.authors = authors\n",
    "        self.num_pages = num_pages\n",
    "\n",
    "    def __str__(self):\n",
    "        return f\"Book[title={self.get_title()}, authors={self.get_authors()}, pages={self.get_num_pages()}]\"\n",
    "\n",
    "    def get_authors(self):\n",
    "        return self.authors\n",
    "\n",
    "    def get_first_author(self):\n",
    "        return self.authors[0]\n",
    "\n",
    "    def get_num_pages(self):\n",
    "        return self.num_pages\n",
    "\n",
    "    def get_title(self):\n",
    "        return self.title\n",
    "\n",
    "class Person:\n",
    "    def __init__(self, family_name, given_name):\n",
    "        self.family_name = family_name\n",
    "        self.given_name = given_name\n",
    "\n",
    "    def __repr__(self):\n",
    "        return self.__str__()\n",
    "\n",
    "    def __str__(self):\n",
    "        return f\"Person[{self.get_family_name()}, {self.get_given_name()}]\"\n",
    "\n",
    "    def get_family_name(self):\n",
    "        return self.family_name\n",
    "\n",
    "    def get_given_name(self):\n",
    "        return self.given_name"
   ]
  },
  {
   "cell_type": "markdown",
   "id": "0e05e147",
   "metadata": {},
   "source": [
    ":::\n",
    "::: {.column width=\"50%\"}\n"
   ]
  },
  {
   "cell_type": "code",
   "execution_count": 2,
   "id": "create-objs",
   "metadata": {},
   "outputs": [
    {
     "name": "stdout",
     "output_type": "stream",
     "text": [
      "Bookstore[3 books]\n",
      "Book[title=The Bell Jar, authors=[Person[Plath, Sylvia]], pages=244]\n",
      "Inventory:\n",
      "0. Book[title=The Bell Jar, authors=[Person[Plath, Sylvia]], pages=244]\n",
      "1. Book[title=The Communist Manifesto, authors=[Person[Marx, Karl], Person[Engels, Friedrich]], pages=43]\n",
      "2. Book[title=The Cement of Society, authors=[Person[Elster, Jon]], pages=311]\n"
     ]
    }
   ],
   "source": [
    "#| label: create-objs\n",
    "my_bookstore = Bookstore(\"Bookland\", \"Washington, DC\")\n",
    "plath = Person(\"Plath\", \"Sylvia\")\n",
    "bell_jar = Book(\"The Bell Jar\", [plath], 244)\n",
    "marx = Person(\"Marx\", \"Karl\")\n",
    "engels = Person(\"Engels\", \"Friedrich\")\n",
    "manifesto = Book(\"The Communist Manifesto\", [marx, engels], 43)\n",
    "elster = Person(\"Elster\", \"Jon\")\n",
    "cement = Book(\"The Cement of Society\", [elster], 311)\n",
    "my_bookstore.add_books([bell_jar, manifesto, cement])\n",
    "print(my_bookstore)\n",
    "print(my_bookstore[0])\n",
    "print(\"Inventory:\")\n",
    "print(my_bookstore.get_inventory())"
   ]
  },
  {
   "cell_type": "markdown",
   "id": "813f5617",
   "metadata": {},
   "source": [
    ":::\n",
    ":::\n",
    "\n",
    "## Doing Things With Classes {.smaller}\n",
    "\n",
    "* Now we can **use** our OOP structure, for example to sort the inventory in different ways!\n",
    "\n",
    "::: columns\n",
    "::: {.column width=\"50%\"}\n",
    "\n",
    "<center>\n",
    "**Alphabetical (By First Author)**\n",
    "</center>\n"
   ]
  },
  {
   "cell_type": "code",
   "execution_count": 3,
   "id": "sort-alpha",
   "metadata": {},
   "outputs": [
    {
     "name": "stdout",
     "output_type": "stream",
     "text": [
      "0. Book[title=The Cement of Society, authors=[Person[Elster, Jon]], pages=311]\n",
      "1. Book[title=The Communist Manifesto, authors=[Person[Marx, Karl], Person[Engels, Friedrich]], pages=43]\n",
      "2. Book[title=The Bell Jar, authors=[Person[Plath, Sylvia]], pages=244]\n"
     ]
    }
   ],
   "source": [
    "#| label: sort-alpha\n",
    "sort_alpha = lambda x: x.get_first_author().get_family_name()\n",
    "my_bookstore.sort_books(sort_key = sort_alpha)\n",
    "print(my_bookstore.get_inventory())"
   ]
  },
  {
   "cell_type": "markdown",
   "id": "b6b3271a",
   "metadata": {},
   "source": [
    ":::\n",
    "::: {.column width=\"50%\"}\n",
    "\n",
    "<center>\n",
    "**By Page Count**\n",
    "</center>\n"
   ]
  },
  {
   "cell_type": "code",
   "execution_count": 4,
   "id": "sort-pages",
   "metadata": {},
   "outputs": [
    {
     "name": "stdout",
     "output_type": "stream",
     "text": [
      "0. Book[title=The Communist Manifesto, authors=[Person[Marx, Karl], Person[Engels, Friedrich]], pages=43]\n",
      "1. Book[title=The Bell Jar, authors=[Person[Plath, Sylvia]], pages=244]\n",
      "2. Book[title=The Cement of Society, authors=[Person[Elster, Jon]], pages=311]\n"
     ]
    }
   ],
   "source": [
    "#| label: sort-pages\n",
    "sort_pages = lambda x: x.get_num_pages()\n",
    "my_bookstore.sort_books(sort_key = sort_pages)\n",
    "print(my_bookstore.get_inventory())"
   ]
  },
  {
   "cell_type": "markdown",
   "id": "c874467b",
   "metadata": {},
   "source": [
    ":::\n",
    ":::\n",
    "\n",
    "## In Pictures {.smaller}\n",
    "\n",
    "\n",
    "\n",
    "```{dot}\n",
    "//| label: bookstore-diagram\n",
    "//| echo: false\n",
    "digraph G {\n",
    "\tgraph [\n",
    "\t\tlabel=\"Bookstore Relational Diagram\"\n",
    "\t\tlabelloc=\"t\"\n",
    "\t]\n",
    "\tnode [\n",
    "\t\tshape=record,\n",
    "        fontname=\"Courier\",\n",
    "\t]\n",
    "    rankdir=LR\n",
    "\n",
    "\tBookstore[nojustify=false,label = \"Bookstore|Name\\l|<loc>Location\\l|<bl>Booklist\\l|Get_Inventory()\\l|Sort_Inventory()\\l\"]\n",
    "\n",
    "    Place[label=\"<placehead>Place|City\\l|State\\l|Country\\l|Print_Map()\\l\"]\n",
    "\n",
    "    Bookstore:loc -> Place:placehead[label=\"Has One\"];\n",
    "\n",
    "    Book[label=\"<bookhead>Book|<title>Title\\l|<auths>Authors\\l|Num Pages\\l|Preview()\"]\n",
    "\n",
    "    Person[label=\"<personhead>Person|Family Name|Given Name\"]\n",
    "\n",
    "    Bookstore:bl -> Book:bookhead[label=\"Has Multiple\",style=\"dashed\"]\n",
    "    Book:auths -> Person:personhead[label=\"Has Multiple\",style=\"dashed\"]\n",
    "}\n",
    "```\n",
    "\n",
    "\n",
    "\n",
    "## Design Choices {.smaller}\n",
    "\n",
    "* The goal is to **encapsulate** as best as possible: which **objects** should have which **properties**, and which **methods**?\n",
    "* Example: Fiction vs. Non-Fiction. How important is this distinction **for your use case?**\n",
    "\n",
    "::: columns\n",
    "::: {.column width=\"50%\"}\n",
    "\n",
    "<center>\n",
    "**Option 1: As Property of `Book`**\n",
    "</center>\n"
   ]
  },
  {
   "cell_type": "code",
   "execution_count": 5,
   "id": "fiction-property",
   "metadata": {},
   "outputs": [],
   "source": [
    "#| label: fiction-property\n",
    "from enum import Enum\n",
    "class BookType(Enum):\n",
    "    NONFICTION = 0\n",
    "    FICTION = 1\n",
    "\n",
    "class Book:\n",
    "    def __init__(self, title: str, authors: list[Person], num_pages: int, type: BookType):\n",
    "        self.title = title\n",
    "        self.authors = authors\n",
    "        self.num_pages = num_pages\n",
    "        self.type = type\n",
    "\n",
    "    def __str__(self):\n",
    "        return f\"Book[title={self.title}, authors={self.authors}, pages={self.num_pages}, type={self.type}]\""
   ]
  },
  {
   "cell_type": "code",
   "execution_count": 6,
   "id": "use-fiction-property",
   "metadata": {},
   "outputs": [
    {
     "name": "stdout",
     "output_type": "stream",
     "text": [
      "Book[title=Ulysses, authors=[Person[Joyce, James]], pages=732, type=BookType.FICTION]\n",
      "Book[title=Micromotives and Macrobehavior, authors=[Person[Schelling, Thomas]], pages=252, type=BookType.NONFICTION]\n"
     ]
    }
   ],
   "source": [
    "#| label: use-fiction-property\n",
    "joyce = Person(\"Joyce\", \"James\")\n",
    "ulysses = Book(\"Ulysses\", [joyce], 732, BookType.FICTION)\n",
    "schelling = Person(\"Schelling\", \"Thomas\")\n",
    "micromotives = Book(\"Micromotives and Macrobehavior\", [schelling], 252, BookType.NONFICTION)\n",
    "print(ulysses)\n",
    "print(micromotives)"
   ]
  },
  {
   "cell_type": "markdown",
   "id": "53fafa5e",
   "metadata": {},
   "source": [
    ":::\n",
    "::: {.column width=\"50%\"}\n",
    "\n",
    "<center>\n",
    "**Option 2: Separate Classes**\n",
    "</center>\n"
   ]
  },
  {
   "cell_type": "code",
   "execution_count": 7,
   "id": "fiction-separate-classes-setup",
   "metadata": {},
   "outputs": [],
   "source": [
    "#| label: fiction-separate-classes-setup\n",
    "#| echo: false\n",
    "class Book:\n",
    "    def __init__(self, title, authors, num_pages):\n",
    "        self.title = title\n",
    "        self.authors = authors\n",
    "        self.num_pages = num_pages\n",
    "\n",
    "    def __str__(self):\n",
    "        return f\"Book[title={self.get_title()}, authors={self.get_authors()}, pages={self.get_num_pages()}]\"\n",
    "\n",
    "    def get_authors(self):\n",
    "        return self.authors\n",
    "\n",
    "    def get_first_author(self):\n",
    "        return self.authors[0]\n",
    "\n",
    "    def get_num_pages(self):\n",
    "        return self.num_pages\n",
    "\n",
    "    def get_title(self):\n",
    "        return self.title"
   ]
  },
  {
   "cell_type": "code",
   "execution_count": 8,
   "id": "fiction-separate-classes",
   "metadata": {},
   "outputs": [],
   "source": [
    "#| label: fiction-separate-classes\n",
    "# class Book defined as earlier\n",
    "class FictionBook(Book):\n",
    "    def __init__(self, title, authors, num_pages, characters):\n",
    "        super().__init__(title, authors, num_pages)\n",
    "        self.characters = characters\n",
    "\n",
    "class NonfictionBook(Book):\n",
    "    def __init__(self, title, authors, num_pages, topic):\n",
    "        super().__init__(title, authors, num_pages)\n",
    "        self.topic = topic"
   ]
  },
  {
   "cell_type": "code",
   "execution_count": 9,
   "id": "use-fiction-separate-classes",
   "metadata": {},
   "outputs": [
    {
     "name": "stdout",
     "output_type": "stream",
     "text": [
      "Book[title=Ulysses, authors=[Person[Joyce, James]], pages=732]\n",
      "Book[title=Micromotives and Macrobehavior, authors=[Person[Schelling, Thomas]], pages=252]\n"
     ]
    }
   ],
   "source": [
    "#| label: use-fiction-separate-classes\n",
    "joyce = Person(\"Joyce\", \"James\")\n",
    "ulysses = FictionBook(\"Ulysses\", [joyce], 732, [\"Daedalus\"])\n",
    "schelling = Person(\"Schelling\", \"Thomas\")\n",
    "micromotives = NonfictionBook(\"Micromotives and Macrobehavior\", [schelling], 252, \"Economics\")\n",
    "print(ulysses)\n",
    "print(micromotives)"
   ]
  },
  {
   "cell_type": "markdown",
   "id": "a3b763e9",
   "metadata": {},
   "source": [
    ":::\n",
    ":::"
   ]
  }
 ],
 "metadata": {
  "kernelspec": {
   "display_name": "Python 3 (ipykernel)",
   "language": "python",
   "name": "python3"
  },
  "language_info": {
   "codemirror_mode": {
    "name": "ipython",
    "version": 3
   },
   "file_extension": ".py",
   "mimetype": "text/x-python",
   "name": "python",
   "nbconvert_exporter": "python",
   "pygments_lexer": "ipython3",
   "version": "3.11.5"
  }
 },
 "nbformat": 4,
 "nbformat_minor": 5
}
